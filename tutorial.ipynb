{
 "cells": [
  {
   "cell_type": "code",
   "execution_count": 1,
   "metadata": {},
   "outputs": [],
   "source": [
    "import requests\n",
    "from src.utils import RecommendationRequest"
   ]
  },
  {
   "cell_type": "code",
   "execution_count": null,
   "metadata": {},
   "outputs": [],
   "source": [
    "# Add description of what you want to do\n",
    "USER_QUERY = \"I like hiking and historical museums\"\n",
    "\n",
    "# Set prefereneces (equivolent to profile preferences)\n",
    "USER_PREF = [\"nature\", \"hiking\"]"
   ]
  },
  {
   "cell_type": "code",
   "execution_count": 3,
   "metadata": {},
   "outputs": [],
   "source": [
    "data = RecommendationRequest(\n",
    "    destination=\"London\",\n",
    "    namespace=\"london-uk\",\n",
    "    num_days=3,\n",
    "    user_query=USER_QUERY,\n",
    "    user_preferences=USER_PREF\n",
    ")\n",
    "\n",
    "request_url = \"http://0.0.0.0:80recommendation\"\n",
    "\n",
    "itinerary = requests.post(request_url, json=data.dict()).json()"
   ]
  },
  {
   "cell_type": "code",
   "execution_count": 4,
   "metadata": {},
   "outputs": [
    {
     "data": {
      "text/plain": [
       "{'title': '3-day escape to London',\n",
       " 'itinerary': {'day-1': [{'title': 'Treasure Hunts in London',\n",
       "    'location': '29A Cherrydown Avenue',\n",
       "    'city': 'London',\n",
       "    'link': 'http://www.scavengerhunts.london',\n",
       "    'description': \"Be the hero of your own adventure. Treasure Hunts In London guide you towards heritage on themed treasure hunts and scavenger hunts. Explore what's on your doorstep in a fun new interactive way and get to know more about London and its history. During indoor hunts you will be exploring London's top museums and art galleries. Discover what treasures are held within their historic collections. Outdoor hunt enable you to uncover heritage found in parks and on the streets. You are encouraged to explore your environment and discover things. This is not a race. The hunt lasts around 3 hours, including an after hunt drinks reception or cream tea. Teams of 2 to 4 players answer clues to score points. The clues are a mixture of straight, puzzle and cryptic clues and are aimed at adults and families with older children. There are also fun assignments and photo challenges to be completed. Prizes are awarded to the winners. Our staff are available to assist you during our fully managed treasure hunts. Perfect for friends, family and workmates to enjoy together. Ideal for parties and special events. A fun new way to explore Arts and Heritage in London.\",\n",
       "    'activity_length': 180.0,\n",
       "    'image_url': 'https://dynamic-media-cdn.tripadvisor.com/media/photo-o/07/4c/c0/98/treasure-hunters-in-london.jpg?w=1200&h=-1&s=1',\n",
       "    'type': 'LocalBusiness'},\n",
       "   {'title': 'The Natural Philosopher',\n",
       "    'location': '489 Hackney Road Inside The Macsmiths',\n",
       "    'city': 'London',\n",
       "    'link': 'http://www.naturalphilosopher.co.uk',\n",
       "    'description': \"Hidden through a functioning Mac repair store, you'll find The Natural Philosopher. An overgrown jungle of plants, art and antiques. Pop in for our weekday Happy Hour Tuesday to Thursday 6-8pm and enjoy £6 selected classic cocktails. Or enjoy one of our signature cocktails themed around natural remedies and herbal medicine.\",\n",
       "    'activity_length': 90.0,\n",
       "    'image_url': 'https://dynamic-media-cdn.tripadvisor.com/media/photo-o/12/08/0a/ef/our-bar-2.jpg?w=1200&h=-1&s=1',\n",
       "    'type': 'LocalBusiness'},\n",
       "   {'title': 'Akhiadventures',\n",
       "    'location': '58 Paul Street',\n",
       "    'city': 'London',\n",
       "    'link': '',\n",
       "    'description': 'We offer Horseback treks worldwide including Morocco, Turkey, South Africa and more. We also offer skiing trips in Sweden.',\n",
       "    'activity_length': 45.0,\n",
       "    'image_url': 'https://dynamic-media-cdn.tripadvisor.com/media/photo-o/24/7b/01/fd/in-the-sahara.jpg?w=1200&h=-1&s=1',\n",
       "    'type': 'LocalBusiness'},\n",
       "   {'title': 'Jewel House',\n",
       "    'location': ' ',\n",
       "    'city': 'London',\n",
       "    'link': 'http://www.hrp.org.uk/TowerOfLondon/',\n",
       "    'description': 'Exhibit of the crown jewels within the Tower of London.',\n",
       "    'activity_length': 45.0,\n",
       "    'image_url': 'https://dynamic-media-cdn.tripadvisor.com/media/photo-o/13/36/d8/4d/the-jewel-house-inside.jpg?w=1200&h=-1&s=1',\n",
       "    'type': 'LocalBusiness'}],\n",
       "  'day-2': [{'title': 'THATMuse,Treasure Hunt at the Museum',\n",
       "    'location': 'Great Russell Street The British Museum',\n",
       "    'city': 'London',\n",
       "    'link': 'http://thatmuse.com/en/thatmuse/',\n",
       "    'description': \"Let's have a silly interactive competitive time in London's Museums! THATMuse, which stands for Treasure Hunt at the Museum, has 5 themes btwn the British Museum and the Victoria & Albert Museums in London (in Paris we're au Louvre, Musee d'Orsay & the Streets of Paris). Our hunts give you an overview, whilst keeping you focused & injecting adrenaline in your museum visit. Both educational & invigorating, our goal is to make you want to see more of the museums afterwards! Good for family travel (a father and mother splitting with a kid per team), office team-building, hen/stag/birthday parties and study abroad school orientations, we can host hunts from 3 people to 200!\",\n",
       "    'activity_length': 90.0,\n",
       "    'image_url': 'https://dynamic-media-cdn.tripadvisor.com/media/photo-o/0f/50/74/04/contemplating-thatmuse.jpg?w=1200&h=-1&s=1',\n",
       "    'type': 'LocalBusiness'},\n",
       "   {'title': 'The British Museum',\n",
       "    'location': 'Great Russell Street',\n",
       "    'city': 'London',\n",
       "    'link': 'http://www.britishmuseum.org',\n",
       "    'description': 'A museum of the world, for the world. Discover over two million years of human history and culture. Some of the world-famous objects include the Rosetta Stone, the Parthenon sculptures and Egyptian mummies.',\n",
       "    'activity_length': 150.0,\n",
       "    'image_url': 'https://dynamic-media-cdn.tripadvisor.com/media/photo-o/0e/ef/2d/8e/photo1jpg.jpg?w=1200&h=-1&s=1',\n",
       "    'type': 'LocalBusiness'},\n",
       "   {'title': 'London Scavenger Hunt and Self-Guided Walking Tour',\n",
       "    'location': 'City Center',\n",
       "    'city': 'London',\n",
       "    'link': 'http://worldcitytrail.com',\n",
       "    'description': 'I would like to explore a new city or my city in a unique way by playing and learning. I like riddle solving so much! I would like to play a game that combines a treasure hunt, an outdoor escape game and a self guided tour. Also I would like to play it in my language. Also i forgot to mention that I would like it to be cheap. Can it also be kids friendly in case I have a family?',\n",
       "    'activity_length': 45.0,\n",
       "    'image_url': 'https://dynamic-media-cdn.tripadvisor.com/media/photo-o/26/60/af/e9/caption.jpg?w=1200&h=-1&s=1',\n",
       "    'type': 'LocalBusiness'}],\n",
       "  'day-3': [{'title': 'Natural History Museum',\n",
       "    'location': 'Cromwell Road South Kensington',\n",
       "    'city': 'London',\n",
       "    'link': 'http://www.nhm.ac.uk',\n",
       "    'description': 'A center of scientific excellence in the discovery of taxonomy and biodiversity, this world-famous museum promotes the discovery and enjoyment of the natural world through such exciting exhibits as the Life and Earth Galleries, wildlife garden and geological collections.',\n",
       "    'activity_length': 180.0,\n",
       "    'image_url': 'https://dynamic-media-cdn.tripadvisor.com/media/photo-o/17/bf/f4/52/photo1jpg.jpg?w=1200&h=-1&s=1',\n",
       "    'type': 'LocalBusiness'},\n",
       "   {'title': 'Chelsea FC Stadium Tour & Museum',\n",
       "    'location': 'Stamford Bridge Fulham Road Stamford Bridge Stadium',\n",
       "    'city': 'London',\n",
       "    'link': 'http://www.chelseafc.com/the-club/stadium-tours-and-museum.html',\n",
       "    'description': 'Chelsea Football Club also offers an established and acclaimed Stadium Tour and Museum attraction, offering an information and exciting insight into Chelsea and Stamford Bridge, alongside an interactive and immersive museum experience.',\n",
       "    'activity_length': 90.0,\n",
       "    'image_url': 'https://dynamic-media-cdn.tripadvisor.com/media/photo-o/11/c1/46/ff/this-is-the-first-view.jpg?w=1200&h=-1&s=1',\n",
       "    'type': 'LocalBusiness'},\n",
       "   {'title': 'Breadcrumbs Treasure Hunts',\n",
       "    'location': '20 Jocelyn Road',\n",
       "    'city': 'London',\n",
       "    'link': 'http://www.breadcrumbsgame.com',\n",
       "    'description': 'Make exploring London\\'s museums even better with Breadcrumbs. Solve cryptic clues to follow a trail around the museum, making sure you see the best bits each museum has to offer, as well as some hidden gems along the way. \"Checking out London’s museums and best-loved attractions has just got even more interesting\" - Lonely Planet',\n",
       "    'activity_length': 45.0,\n",
       "    'image_url': 'https://dynamic-media-cdn.tripadvisor.com/media/photo-o/18/4c/11/49/caption.jpg?w=1200&h=-1&s=1',\n",
       "    'type': 'LocalBusiness'}]}}"
      ]
     },
     "execution_count": 4,
     "metadata": {},
     "output_type": "execute_result"
    }
   ],
   "source": [
    "itinerary"
   ]
  }
 ],
 "metadata": {
  "kernelspec": {
   "display_name": "env",
   "language": "python",
   "name": "python3"
  },
  "language_info": {
   "codemirror_mode": {
    "name": "ipython",
    "version": 3
   },
   "file_extension": ".py",
   "mimetype": "text/x-python",
   "name": "python",
   "nbconvert_exporter": "python",
   "pygments_lexer": "ipython3",
   "version": "3.9.7"
  },
  "orig_nbformat": 4
 },
 "nbformat": 4,
 "nbformat_minor": 2
}
